{
 "cells": [
  {
   "cell_type": "markdown",
   "metadata": {
    "application/vnd.databricks.v1+cell": {
     "cellMetadata": {
      "byteLimit": 2048000,
      "rowLimit": 10000
     },
     "inputWidgets": {},
     "nuid": "b58c49a3-8ab1-42e4-ae1a-e51264c062a7",
     "showTitle": true,
     "title": "View Cells in a minimized screen for better viewing"
    }
   },
   "source": [
    "                                          VIEW CELLS IN A MINIMIZED VIEW FOR A BETTER VISUAL OF THE DATAFRAMES.\n"
   ]
  },
  {
   "cell_type": "code",
   "execution_count": 0,
   "metadata": {
    "application/vnd.databricks.v1+cell": {
     "cellMetadata": {
      "byteLimit": 2048000,
      "rowLimit": 10000
     },
     "inputWidgets": {},
     "nuid": "dbeb60d4-8af4-483c-a1a5-165e00892e9c",
     "showTitle": false,
     "title": ""
    }
   },
   "outputs": [],
   "source": [
    "spark.conf.set(\"fs.azure.account.key.projectstorageaccount11.dfs.core.windows.net\", \"RKyEVqMj4IcV+b9I73Rm4BpdXtYoeguqN8XIlws7EQcJHx6J0wp1o3RJZtPBdB94E3uWlAeEak7I+AStIY2wlQ==\")"
   ]
  },
  {
   "cell_type": "code",
   "execution_count": 0,
   "metadata": {
    "application/vnd.databricks.v1+cell": {
     "cellMetadata": {
      "byteLimit": 2048000,
      "rowLimit": 10000
     },
     "inputWidgets": {},
     "nuid": "f8b5d063-989d-4c6c-b705-91a19dfd1f3c",
     "showTitle": false,
     "title": ""
    }
   },
   "outputs": [
    {
     "output_type": "execute_result",
     "data": {
      "text/plain": [
       "[FileInfo(path='abfss://raw@projectstorageaccount11.dfs.core.windows.net/Amir-Razvi/', name='Amir-Razvi/', size=0, modificationTime=1719871925000)]"
      ]
     },
     "execution_count": 78,
     "metadata": {},
     "output_type": "execute_result"
    }
   ],
   "source": [
    "dbutils.fs.ls(\"abfss://raw@projectstorageaccount11.dfs.core.windows.net/\")\n"
   ]
  },
  {
   "cell_type": "code",
   "execution_count": 0,
   "metadata": {
    "application/vnd.databricks.v1+cell": {
     "cellMetadata": {
      "byteLimit": 2048000,
      "rowLimit": 10000
     },
     "inputWidgets": {},
     "nuid": "77adfa3d-f1fc-48f0-9447-3783476f7399",
     "showTitle": false,
     "title": ""
    }
   },
   "outputs": [
    {
     "output_type": "stream",
     "name": "stdout",
     "output_type": "stream",
     "text": [
      "+-------------------+---+------+----------+-----------------+-----------------+----------------+--------------------+------------------+------------------+-----------+--------------+--------------+-----------+------------+\n|               Name|Age|Gender|Blood Type|Medical Condition|Date of Admission|          Doctor|            Hospital|Insurance Provider|    Billing Amount|Room Number|Admission Type|Discharge Date| Medication|Test Results|\n+-------------------+---+------+----------+-----------------+-----------------+----------------+--------------------+------------------+------------------+-----------+--------------+--------------+-----------+------------+\n|      Bobby JacksOn| 30|  Male|        B-|           Cancer|       2024-01-31|   Matthew Smith|     Sons and Miller|        Blue Cross|18856.281305978155|        328|        Urgent|    2024-02-02|Paracetamol|      Normal|\n|       LesLie TErRy| 62|  Male|        A+|          Obesity|       2019-08-20| Samantha Davies|             Kim Inc|          Medicare|33643.327286577885|        265|     Emergency|    2019-08-26|  Ibuprofen|Inconclusive|\n|        DaNnY sMitH| 76|Female|        A-|          Obesity|       2022-09-22|Tiffany Mitchell|            Cook PLC|             Aetna|27955.096078842456|        205|     Emergency|    2022-10-07|    Aspirin|      Normal|\n|       andrEw waTtS| 28|Female|        O+|         Diabetes|       2020-11-18|     Kevin Wells|Hernandez Rogers ...|          Medicare| 37909.78240987528|        450|      Elective|    2020-12-18|  Ibuprofen|    Abnormal|\n|      adrIENNE bEll| 43|Female|       AB+|           Cancer|       2022-09-19|  Kathleen Hanna|         White-White|             Aetna|14238.317813937623|        458|        Urgent|    2022-10-09| Penicillin|    Abnormal|\n|      EMILY JOHNSOn| 36|  Male|        A+|           Asthma|       2023-12-20|   Taylor Newton|      Nunez-Humphrey|  UnitedHealthcare| 48145.11095104189|        389|        Urgent|    2023-12-24|  Ibuprofen|      Normal|\n|     edwArD EDWaRDs| 21|Female|       AB-|         Diabetes|       2020-11-03|     Kelly Olson|     Group Middleton|          Medicare| 19580.87234486093|        389|     Emergency|    2020-11-15|Paracetamol|Inconclusive|\n| CHrisTInA MARtinez| 20|Female|        A+|           Cancer|       2021-12-28|  Suzanne Thomas|Powell Robinson a...|             Cigna| 45820.46272159459|        277|     Emergency|    2022-01-07|Paracetamol|Inconclusive|\n|    JASmINe aGuIlaR| 82|  Male|       AB+|           Asthma|       2020-07-01| Daniel Ferguson|       Sons Rich and|             Cigna|50119.222791548505|        316|      Elective|    2020-07-14|    Aspirin|    Abnormal|\n|   ChRISTopher BerG| 58|Female|       AB-|           Cancer|       2021-05-23|     Heather Day|      Padilla-Walker|  UnitedHealthcare| 19784.63106221073|        249|      Elective|    2021-06-22|Paracetamol|Inconclusive|\n|   mIchElLe daniELs| 72|  Male|        O+|           Cancer|       2020-04-19|     John Duncan|     Schaefer-Porter|          Medicare|12576.795609050234|        394|        Urgent|    2020-04-22|Paracetamol|      Normal|\n|     aaRon MARtiNeZ| 38|Female|        A-|     Hypertension|       2023-08-13|    Douglas Mayo|         Lyons-Blair|          Medicare| 7999.586879604188|        288|        Urgent|    2023-09-05|    Lipitor|Inconclusive|\n|      connOR HANsEn| 75|Female|        A+|         Diabetes|       2019-12-12|Kenneth Fletcher|Powers Miller, an...|             Cigna| 43282.28335770435|        134|     Emergency|    2019-12-28| Penicillin|    Abnormal|\n|       rObeRt bAuer| 68|Female|       AB+|           Asthma|       2020-05-22| Theresa Freeman|    Rivera-Gutierrez|  UnitedHealthcare|33207.706633729606|        309|        Urgent|    2020-06-19|    Lipitor|      Normal|\n|       bROOkE brady| 44|Female|       AB+|           Cancer|       2021-10-08| Roberta Stewart|     Morris-Arellano|  UnitedHealthcare|40701.599227308754|        182|        Urgent|    2021-10-13|Paracetamol|      Normal|\n| MS. nAtalIE gAMble| 46|Female|       AB-|          Obesity|       2023-01-01| Maria Dougherty|      Cline-Williams|        Blue Cross|12263.357425021362|        465|      Elective|    2023-01-11|    Aspirin|Inconclusive|\n|      haley perkins| 63|Female|        A+|        Arthritis|       2020-06-23|   Erica Spencer|     Cervantes-Wells|  UnitedHealthcare|24499.847903736576|        114|      Elective|    2020-07-14|Paracetamol|      Normal|\n|mRS. jamiE cAMPBELl| 38|  Male|       AB-|          Obesity|       2020-03-08|      Justin Kim|Torres, and Harri...|             Cigna|17440.465444124675|        449|        Urgent|    2020-04-02|Paracetamol|    Abnormal|\n|       LuKE BuRgEss| 34|Female|        A-|     Hypertension|       2021-03-04|Justin Moore Jr.|         Houston PLC|        Blue Cross| 18843.02301783416|        260|      Elective|    2021-03-14|    Aspirin|    Abnormal|\n|     dANIEL schmIdt| 63|  Male|        B+|           Asthma|       2022-11-15| Denise Galloway|         Hammond Ltd|             Cigna|23762.203579059587|        465|      Elective|    2022-11-22| Penicillin|      Normal|\n+-------------------+---+------+----------+-----------------+-----------------+----------------+--------------------+------------------+------------------+-----------+--------------+--------------+-----------+------------+\nonly showing top 20 rows\n\n"
     ]
    }
   ],
   "source": [
    "from pyspark.sql import SparkSession\n",
    "from datetime import datetime\n",
    "\n",
    "spark = SparkSession.builder.appName(\"ReadData\").getOrCreate()\n",
    "storage_account_name = \"projectstorageaccount11\"\n",
    "src_container = \"raw\"\n",
    "file_path = \"Amir-Razvi/Health_Insights/main/healthcare_dataset.csv\"\n",
    "target_container = \"cleaned\"\n",
    "\n",
    "adls_url = f\"abfss://{src_container}@{storage_account_name}.dfs.core.windows.net/{file_path}\"\n",
    "\n",
    "df = spark.read.csv(adls_url, sep=',', header=True,inferSchema=True)\n",
    "\n",
    "df.show()\n",
    "\n",
    "df.createOrReplaceTempView(\"view_healthdataset\")"
   ]
  },
  {
   "cell_type": "code",
   "execution_count": 0,
   "metadata": {
    "application/vnd.databricks.v1+cell": {
     "cellMetadata": {
      "byteLimit": 2048000,
      "rowLimit": 10000
     },
     "inputWidgets": {},
     "nuid": "0ff18f44-f137-4c20-b797-658917b5baa1",
     "showTitle": false,
     "title": ""
    }
   },
   "outputs": [
    {
     "output_type": "stream",
     "name": "stdout",
     "output_type": "stream",
     "text": [
      "root\n |-- Name: string (nullable = true)\n |-- Age: integer (nullable = true)\n |-- Gender: string (nullable = true)\n |-- Blood Type: string (nullable = true)\n |-- Medical Condition: string (nullable = true)\n |-- Date of Admission: date (nullable = true)\n |-- Doctor: string (nullable = true)\n |-- Hospital: string (nullable = true)\n |-- Insurance Provider: string (nullable = true)\n |-- Billing Amount: double (nullable = true)\n |-- Room Number: integer (nullable = true)\n |-- Admission Type: string (nullable = true)\n |-- Discharge Date: date (nullable = true)\n |-- Medication: string (nullable = true)\n |-- Test Results: string (nullable = true)\n\n"
     ]
    }
   ],
   "source": [
    "df.printSchema()"
   ]
  },
  {
   "cell_type": "code",
   "execution_count": 0,
   "metadata": {
    "application/vnd.databricks.v1+cell": {
     "cellMetadata": {
      "byteLimit": 2048000,
      "rowLimit": 10000
     },
     "inputWidgets": {},
     "nuid": "cde13ad6-6e6e-41f3-83ba-9ddd60467a0d",
     "showTitle": false,
     "title": ""
    }
   },
   "outputs": [
    {
     "output_type": "stream",
     "name": "stdout",
     "output_type": "stream",
     "text": [
      "+-------------------+---+------+----------+-----------------+-----------------+----------------+--------------------+------------------+------------------+-----------+--------------+--------------+-----------+------------+-----------+---------------------+\n|               Name|Age|Gender|Blood Type|Medical Condition|Date of Admission|          Doctor|            Hospital|Insurance Provider|    Billing Amount|Room Number|Admission Type|Discharge Date| Medication|Test Results|Age_Cleaned|BillingAmount_Cleaned|\n+-------------------+---+------+----------+-----------------+-----------------+----------------+--------------------+------------------+------------------+-----------+--------------+--------------+-----------+------------+-----------+---------------------+\n|      Bobby JacksOn| 30|  Male|        B-|           Cancer|       2024-01-31|   Matthew Smith|     Sons and Miller|        Blue Cross|18856.281305978155|        328|        Urgent|    2024-02-02|Paracetamol|      Normal|         30|   18856.281305978155|\n|       LesLie TErRy| 62|  Male|        A+|          Obesity|       2019-08-20| Samantha Davies|             Kim Inc|          Medicare|33643.327286577885|        265|     Emergency|    2019-08-26|  Ibuprofen|Inconclusive|         62|   33643.327286577885|\n|        DaNnY sMitH| 76|Female|        A-|          Obesity|       2022-09-22|Tiffany Mitchell|            Cook PLC|             Aetna|27955.096078842456|        205|     Emergency|    2022-10-07|    Aspirin|      Normal|         76|   27955.096078842456|\n|       andrEw waTtS| 28|Female|        O+|         Diabetes|       2020-11-18|     Kevin Wells|Hernandez Rogers ...|          Medicare| 37909.78240987528|        450|      Elective|    2020-12-18|  Ibuprofen|    Abnormal|         28|    37909.78240987528|\n|      adrIENNE bEll| 43|Female|       AB+|           Cancer|       2022-09-19|  Kathleen Hanna|         White-White|             Aetna|14238.317813937623|        458|        Urgent|    2022-10-09| Penicillin|    Abnormal|         43|   14238.317813937623|\n|      EMILY JOHNSOn| 36|  Male|        A+|           Asthma|       2023-12-20|   Taylor Newton|      Nunez-Humphrey|  UnitedHealthcare| 48145.11095104189|        389|        Urgent|    2023-12-24|  Ibuprofen|      Normal|         36|    48145.11095104189|\n|     edwArD EDWaRDs| 21|Female|       AB-|         Diabetes|       2020-11-03|     Kelly Olson|     Group Middleton|          Medicare| 19580.87234486093|        389|     Emergency|    2020-11-15|Paracetamol|Inconclusive|         21|    19580.87234486093|\n| CHrisTInA MARtinez| 20|Female|        A+|           Cancer|       2021-12-28|  Suzanne Thomas|Powell Robinson a...|             Cigna| 45820.46272159459|        277|     Emergency|    2022-01-07|Paracetamol|Inconclusive|         20|    45820.46272159459|\n|    JASmINe aGuIlaR| 82|  Male|       AB+|           Asthma|       2020-07-01| Daniel Ferguson|       Sons Rich and|             Cigna|50119.222791548505|        316|      Elective|    2020-07-14|    Aspirin|    Abnormal|         82|   50119.222791548505|\n|   ChRISTopher BerG| 58|Female|       AB-|           Cancer|       2021-05-23|     Heather Day|      Padilla-Walker|  UnitedHealthcare| 19784.63106221073|        249|      Elective|    2021-06-22|Paracetamol|Inconclusive|         58|    19784.63106221073|\n|   mIchElLe daniELs| 72|  Male|        O+|           Cancer|       2020-04-19|     John Duncan|     Schaefer-Porter|          Medicare|12576.795609050234|        394|        Urgent|    2020-04-22|Paracetamol|      Normal|         72|   12576.795609050234|\n|     aaRon MARtiNeZ| 38|Female|        A-|     Hypertension|       2023-08-13|    Douglas Mayo|         Lyons-Blair|          Medicare| 7999.586879604188|        288|        Urgent|    2023-09-05|    Lipitor|Inconclusive|         38|    7999.586879604188|\n|      connOR HANsEn| 75|Female|        A+|         Diabetes|       2019-12-12|Kenneth Fletcher|Powers Miller, an...|             Cigna| 43282.28335770435|        134|     Emergency|    2019-12-28| Penicillin|    Abnormal|         75|    43282.28335770435|\n|       rObeRt bAuer| 68|Female|       AB+|           Asthma|       2020-05-22| Theresa Freeman|    Rivera-Gutierrez|  UnitedHealthcare|33207.706633729606|        309|        Urgent|    2020-06-19|    Lipitor|      Normal|         68|   33207.706633729606|\n|       bROOkE brady| 44|Female|       AB+|           Cancer|       2021-10-08| Roberta Stewart|     Morris-Arellano|  UnitedHealthcare|40701.599227308754|        182|        Urgent|    2021-10-13|Paracetamol|      Normal|         44|   40701.599227308754|\n| MS. nAtalIE gAMble| 46|Female|       AB-|          Obesity|       2023-01-01| Maria Dougherty|      Cline-Williams|        Blue Cross|12263.357425021362|        465|      Elective|    2023-01-11|    Aspirin|Inconclusive|         46|   12263.357425021362|\n|      haley perkins| 63|Female|        A+|        Arthritis|       2020-06-23|   Erica Spencer|     Cervantes-Wells|  UnitedHealthcare|24499.847903736576|        114|      Elective|    2020-07-14|Paracetamol|      Normal|         63|   24499.847903736576|\n|mRS. jamiE cAMPBELl| 38|  Male|       AB-|          Obesity|       2020-03-08|      Justin Kim|Torres, and Harri...|             Cigna|17440.465444124675|        449|        Urgent|    2020-04-02|Paracetamol|    Abnormal|         38|   17440.465444124675|\n|       LuKE BuRgEss| 34|Female|        A-|     Hypertension|       2021-03-04|Justin Moore Jr.|         Houston PLC|        Blue Cross| 18843.02301783416|        260|      Elective|    2021-03-14|    Aspirin|    Abnormal|         34|    18843.02301783416|\n|     dANIEL schmIdt| 63|  Male|        B+|           Asthma|       2022-11-15| Denise Galloway|         Hammond Ltd|             Cigna|23762.203579059587|        465|      Elective|    2022-11-22| Penicillin|      Normal|         63|   23762.203579059587|\n+-------------------+---+------+----------+-----------------+-----------------+----------------+--------------------+------------------+------------------+-----------+--------------+--------------+-----------+------------+-----------+---------------------+\nonly showing top 20 rows\n\n"
     ]
    }
   ],
   "source": [
    "from pyspark.ml.feature import Imputer\n",
    "imputer=Imputer(inputCols=['Age','Billing Amount'],outputCols=['Age_Cleaned','BillingAmount_Cleaned'])\n",
    "\n",
    "df_imputed=imputer.fit(df).transform(df)\n",
    "df_imputed.show()"
   ]
  },
  {
   "cell_type": "code",
   "execution_count": 0,
   "metadata": {
    "application/vnd.databricks.v1+cell": {
     "cellMetadata": {
      "byteLimit": 2048000,
      "rowLimit": 10000
     },
     "inputWidgets": {},
     "nuid": "18ad6f5a-437b-4f5c-9fe3-33571ccb4d41",
     "showTitle": false,
     "title": ""
    }
   },
   "outputs": [
    {
     "output_type": "stream",
     "name": "stdout",
     "output_type": "stream",
     "text": [
      "Total rows: 55500\nExtra rows: 54966\nThere are 534 duplicate rows.\n"
     ]
    }
   ],
   "source": [
    "\n",
    "#checking if any duplicates exist\n",
    "total_rows=df_imputed.count()\n",
    "extra_rows=df_imputed.distinct().count()\n",
    "\n",
    "print(f\"Total rows: {total_rows}\")\n",
    "print(f\"Extra rows: {extra_rows}\")\n",
    "\n",
    "if total_rows > extra_rows:\n",
    "    print(f\"There are {total_rows - extra_rows} duplicate rows.\")\n",
    "else:\n",
    "    print(\"There are no duplicate rows.\")"
   ]
  },
  {
   "cell_type": "code",
   "execution_count": 0,
   "metadata": {
    "application/vnd.databricks.v1+cell": {
     "cellMetadata": {
      "byteLimit": 2048000,
      "rowLimit": 10000
     },
     "inputWidgets": {},
     "nuid": "6e764645-d42f-40fc-b7df-c9633b4c6897",
     "showTitle": false,
     "title": ""
    }
   },
   "outputs": [
    {
     "output_type": "stream",
     "name": "stdout",
     "output_type": "stream",
     "text": [
      "+-------------------+---+------+----------+-----------------+-----------------+----------------+--------------------+------------------+------------------+-----------+--------------+--------------+-----------+------------+-----------+---------------------+\n|               Name|Age|Gender|Blood Type|Medical Condition|Date of Admission|          Doctor|            Hospital|Insurance Provider|    Billing Amount|Room Number|Admission Type|Discharge Date| Medication|Test Results|Age_Cleaned|BillingAmount_Cleaned|\n+-------------------+---+------+----------+-----------------+-----------------+----------------+--------------------+------------------+------------------+-----------+--------------+--------------+-----------+------------+-----------+---------------------+\n|     aaRon MARtiNeZ| 38|Female|        A-|     Hypertension|       2023-08-13|    Douglas Mayo|         Lyons-Blair|          Medicare| 7999.586879604188|        288|        Urgent|    2023-09-05|    Lipitor|Inconclusive|         38|    7999.586879604188|\n|       rObeRt bAuer| 68|Female|       AB+|           Asthma|       2020-05-22| Theresa Freeman|    Rivera-Gutierrez|  UnitedHealthcare|33207.706633729606|        309|        Urgent|    2020-06-19|    Lipitor|      Normal|         68|   33207.706633729606|\n|   ChRISTopher BerG| 58|Female|       AB-|           Cancer|       2021-05-23|     Heather Day|      Padilla-Walker|  UnitedHealthcare| 19784.63106221073|        249|      Elective|    2021-06-22|Paracetamol|Inconclusive|         58|    19784.63106221073|\n|       andrEw waTtS| 28|Female|        O+|         Diabetes|       2020-11-18|     Kevin Wells|Hernandez Rogers ...|          Medicare| 37909.78240987528|        450|      Elective|    2020-12-18|  Ibuprofen|    Abnormal|         28|    37909.78240987528|\n|      tIMOTHY burNs| 67|Female|        A-|           Asthma|       2023-06-28|    Krista Smith|           Jones LLC|        Blue Cross|  42.5145885533243|        115|      Elective|    2023-07-02|    Aspirin|      Normal|         67|     42.5145885533243|\n|    JASmINe aGuIlaR| 82|  Male|       AB+|           Asthma|       2020-07-01| Daniel Ferguson|       Sons Rich and|             Cigna|50119.222791548505|        316|      Elective|    2020-07-14|    Aspirin|    Abnormal|         82|   50119.222791548505|\n|       bROOkE brady| 44|Female|       AB+|           Cancer|       2021-10-08| Roberta Stewart|     Morris-Arellano|  UnitedHealthcare|40701.599227308754|        182|        Urgent|    2021-10-13|Paracetamol|      Normal|         44|   40701.599227308754|\n|mRS. jamiE cAMPBELl| 38|  Male|       AB-|          Obesity|       2020-03-08|      Justin Kim|Torres, and Harri...|             Cigna|17440.465444124675|        449|        Urgent|    2020-04-02|Paracetamol|    Abnormal|         38|   17440.465444124675|\n|      haley perkins| 63|Female|        A+|        Arthritis|       2020-06-23|   Erica Spencer|     Cervantes-Wells|  UnitedHealthcare|24499.847903736576|        114|      Elective|    2020-07-14|Paracetamol|      Normal|         63|   24499.847903736576|\n|      Bobby JacksOn| 30|  Male|        B-|           Cancer|       2024-01-31|   Matthew Smith|     Sons and Miller|        Blue Cross|18856.281305978155|        328|        Urgent|    2024-02-02|Paracetamol|      Normal|         30|   18856.281305978155|\n|     dANIEL schmIdt| 63|  Male|        B+|           Asthma|       2022-11-15| Denise Galloway|         Hammond Ltd|             Cigna|23762.203579059587|        465|      Elective|    2022-11-22| Penicillin|      Normal|         63|   23762.203579059587|\n|        DaNnY sMitH| 76|Female|        A-|          Obesity|       2022-09-22|Tiffany Mitchell|            Cook PLC|             Aetna|27955.096078842456|        205|     Emergency|    2022-10-07|    Aspirin|      Normal|         76|   27955.096078842456|\n|   mIchElLe daniELs| 72|  Male|        O+|           Cancer|       2020-04-19|     John Duncan|     Schaefer-Porter|          Medicare|12576.795609050234|        394|        Urgent|    2020-04-22|Paracetamol|      Normal|         72|   12576.795609050234|\n|      adrIENNE bEll| 43|Female|       AB+|           Cancer|       2022-09-19|  Kathleen Hanna|         White-White|             Aetna|14238.317813937623|        458|        Urgent|    2022-10-09| Penicillin|    Abnormal|         43|   14238.317813937623|\n|     edwArD EDWaRDs| 21|Female|       AB-|         Diabetes|       2020-11-03|     Kelly Olson|     Group Middleton|          Medicare| 19580.87234486093|        389|     Emergency|    2020-11-15|Paracetamol|Inconclusive|         21|    19580.87234486093|\n|      connOR HANsEn| 75|Female|        A+|         Diabetes|       2019-12-12|Kenneth Fletcher|Powers Miller, an...|             Cigna| 43282.28335770435|        134|     Emergency|    2019-12-28| Penicillin|    Abnormal|         75|    43282.28335770435|\n|       LesLie TErRy| 62|  Male|        A+|          Obesity|       2019-08-20| Samantha Davies|             Kim Inc|          Medicare|33643.327286577885|        265|     Emergency|    2019-08-26|  Ibuprofen|Inconclusive|         62|   33643.327286577885|\n|      EMILY JOHNSOn| 36|  Male|        A+|           Asthma|       2023-12-20|   Taylor Newton|      Nunez-Humphrey|  UnitedHealthcare| 48145.11095104189|        389|        Urgent|    2023-12-24|  Ibuprofen|      Normal|         36|    48145.11095104189|\n|       LuKE BuRgEss| 34|Female|        A-|     Hypertension|       2021-03-04|Justin Moore Jr.|         Houston PLC|        Blue Cross| 18843.02301783416|        260|      Elective|    2021-03-14|    Aspirin|    Abnormal|         34|    18843.02301783416|\n| CHrisTInA MARtinez| 20|Female|        A+|           Cancer|       2021-12-28|  Suzanne Thomas|Powell Robinson a...|             Cigna| 45820.46272159459|        277|     Emergency|    2022-01-07|Paracetamol|Inconclusive|         20|    45820.46272159459|\n+-------------------+---+------+----------+-----------------+-----------------+----------------+--------------------+------------------+------------------+-----------+--------------+--------------+-----------+------------+-----------+---------------------+\nonly showing top 20 rows\n\n"
     ]
    }
   ],
   "source": [
    "df_no_duplicates=df_imputed.dropDuplicates()\n",
    "df_no_duplicates.show()"
   ]
  },
  {
   "cell_type": "code",
   "execution_count": 0,
   "metadata": {
    "application/vnd.databricks.v1+cell": {
     "cellMetadata": {
      "byteLimit": 2048000,
      "rowLimit": 10000
     },
     "inputWidgets": {},
     "nuid": "676bacb2-ba8e-41bd-8bf5-e3e61b5c97a1",
     "showTitle": false,
     "title": ""
    }
   },
   "outputs": [
    {
     "output_type": "stream",
     "name": "stdout",
     "output_type": "stream",
     "text": [
      "Total rows: 54966\nExtra rows: 54966\nThere are no duplicate rows.\n"
     ]
    }
   ],
   "source": [
    "#checking if any duplicates exist\n",
    "total_rows=df_no_duplicates.count()\n",
    "extra_rows=df_no_duplicates.distinct().count()\n",
    "\n",
    "print(f\"Total rows: {total_rows}\")\n",
    "print(f\"Extra rows: {extra_rows}\")\n",
    "\n",
    "if total_rows > extra_rows:\n",
    "    print(f\"There are {total_rows - extra_rows} duplicate rows.\")\n",
    "else:\n",
    "    print(\"There are no duplicate rows.\")"
   ]
  },
  {
   "cell_type": "code",
   "execution_count": 0,
   "metadata": {
    "application/vnd.databricks.v1+cell": {
     "cellMetadata": {
      "byteLimit": 2048000,
      "rowLimit": 10000
     },
     "inputWidgets": {},
     "nuid": "c3b5bb29-8518-4795-b196-773cadf775bf",
     "showTitle": false,
     "title": ""
    }
   },
   "outputs": [],
   "source": [
    "df_no_duplicates.createOrReplaceTempView(\"view_healthdataset_cleaned\")"
   ]
  },
  {
   "cell_type": "code",
   "execution_count": 0,
   "metadata": {
    "application/vnd.databricks.v1+cell": {
     "cellMetadata": {
      "byteLimit": 2048000,
      "rowLimit": 10000
     },
     "inputWidgets": {},
     "nuid": "692f306c-0488-4df1-a104-cf7c7dd4c837",
     "showTitle": false,
     "title": ""
    }
   },
   "outputs": [
    {
     "output_type": "stream",
     "name": "stdout",
     "output_type": "stream",
     "text": [
      "+----------------+-----------+------+----------+-----------------+-----------------+--------------------+------------------+---------------------+--------------+--------------+-----------+------------+\n|            Name|Age_Cleaned|Gender|Blood Type|Medical Condition|Date of Admission|            Hospital|Insurance Provider|BillingAmount_Cleaned|Admission Type|Discharge Date| Medication|Test Results|\n+----------------+-----------+------+----------+-----------------+-----------------+--------------------+------------------+---------------------+--------------+--------------+-----------+------------+\n|ChRISTopher BerG|         58|Female|       AB-|           Cancer|       2021-05-23|      Padilla-Walker|  UnitedHealthcare|    19784.63106221073|      Elective|    2021-06-22|Paracetamol|Inconclusive|\n|    andrEw waTtS|         28|Female|        O+|         Diabetes|       2020-11-18|Hernandez Rogers ...|          Medicare|    37909.78240987528|      Elective|    2020-12-18|  Ibuprofen|    Abnormal|\n| JASmINe aGuIlaR|         82|  Male|       AB+|           Asthma|       2020-07-01|       Sons Rich and|             Cigna|   50119.222791548505|      Elective|    2020-07-14|    Aspirin|    Abnormal|\n|   Bobby JacksOn|         30|  Male|        B-|           Cancer|       2024-01-31|     Sons and Miller|        Blue Cross|   18856.281305978155|        Urgent|    2024-02-02|Paracetamol|      Normal|\n|     DaNnY sMitH|         76|Female|        A-|          Obesity|       2022-09-22|            Cook PLC|             Aetna|   27955.096078842456|     Emergency|    2022-10-07|    Aspirin|      Normal|\n|mIchElLe daniELs|         72|  Male|        O+|           Cancer|       2020-04-19|     Schaefer-Porter|          Medicare|   12576.795609050234|        Urgent|    2020-04-22|Paracetamol|      Normal|\n|   adrIENNE bEll|         43|Female|       AB+|           Cancer|       2022-09-19|         White-White|             Aetna|   14238.317813937623|        Urgent|    2022-10-09| Penicillin|    Abnormal|\n|  edwArD EDWaRDs|         21|Female|       AB-|         Diabetes|       2020-11-03|     Group Middleton|          Medicare|    19580.87234486093|     Emergency|    2020-11-15|Paracetamol|Inconclusive|\n|    LesLie TErRy|         62|  Male|        A+|          Obesity|       2019-08-20|             Kim Inc|          Medicare|   33643.327286577885|     Emergency|    2019-08-26|  Ibuprofen|Inconclusive|\n|   EMILY JOHNSOn|         36|  Male|        A+|           Asthma|       2023-12-20|      Nunez-Humphrey|  UnitedHealthcare|    48145.11095104189|        Urgent|    2023-12-24|  Ibuprofen|      Normal|\n+----------------+-----------+------+----------+-----------------+-----------------+--------------------+------------------+---------------------+--------------+--------------+-----------+------------+\nonly showing top 10 rows\n\n"
     ]
    }
   ],
   "source": [
    "checking = \"\"\"\n",
    "                SELECT Name, Age_Cleaned, Gender, `Blood Type`, `Medical Condition`, `Date of Admission`, Hospital, `Insurance Provider`,`BillingAmount_Cleaned`,`Admission Type`,`Discharge Date`, Medication,`Test Results`\n",
    "                FROM view_healthdataset_cleaned\n",
    "              \"\"\"\n",
    "\n",
    "output_df_cleaned = spark.sql(checking)\n",
    "output_df_cleaned.show(10)\n",
    "#analyzing which all columns we do not need and excluding them"
   ]
  },
  {
   "cell_type": "code",
   "execution_count": 0,
   "metadata": {
    "application/vnd.databricks.v1+cell": {
     "cellMetadata": {
      "byteLimit": 2048000,
      "rowLimit": 10000
     },
     "inputWidgets": {},
     "nuid": "35386a70-a0e2-4794-8759-483505ec30e6",
     "showTitle": false,
     "title": ""
    }
   },
   "outputs": [],
   "source": [
    "\n",
    "\n",
    "output_df_cleaned.write.mode('overwrite').csv(f\"abfss://{target_container}@projectstorageaccount11.dfs.core.windows.net/cleaned_healthdata\",header=True)\n"
   ]
  },
  {
   "cell_type": "markdown",
   "metadata": {
    "application/vnd.databricks.v1+cell": {
     "cellMetadata": {
      "byteLimit": 2048000,
      "rowLimit": 10000
     },
     "inputWidgets": {},
     "nuid": "65f43d71-ab03-40f3-b341-928a432df0f0",
     "showTitle": false,
     "title": ""
    }
   },
   "source": [
    "                                                                                  DATA IS NOW CLEANED"
   ]
  },
  {
   "cell_type": "code",
   "execution_count": 0,
   "metadata": {
    "application/vnd.databricks.v1+cell": {
     "cellMetadata": {
      "byteLimit": 2048000,
      "rowLimit": 10000
     },
     "inputWidgets": {},
     "nuid": "58aa58dd-1667-4937-a999-404099dcad35",
     "showTitle": false,
     "title": ""
    }
   },
   "outputs": [],
   "source": [
    "\n",
    "\n",
    "csvPath = \"wasbs://cleaned@projectstorageaccount11.blob.core.windows.net/cleaned_healthdata/part-000*\"\n",
    "\n",
    "# Read all CSV files matching the pattern into a DataFrame\n",
    "new_df = spark.read.format(\"csv\").option(\"header\", \"true\").load(csvPath)"
   ]
  },
  {
   "cell_type": "code",
   "execution_count": 0,
   "metadata": {
    "application/vnd.databricks.v1+cell": {
     "cellMetadata": {
      "byteLimit": 2048000,
      "rowLimit": 10000
     },
     "inputWidgets": {},
     "nuid": "26be4a1f-01cc-4669-a0b2-1a1d11e6396c",
     "showTitle": false,
     "title": ""
    }
   },
   "outputs": [
    {
     "output_type": "stream",
     "name": "stdout",
     "output_type": "stream",
     "text": [
      "+-------------------+-----------+------+----------+-----------------+-----------------+--------------------+------------------+---------------------+--------------+--------------+-----------+------------+\n|               Name|Age_Cleaned|Gender|Blood Type|Medical Condition|Date of Admission|            Hospital|Insurance Provider|BillingAmount_Cleaned|Admission Type|Discharge Date| Medication|Test Results|\n+-------------------+-----------+------+----------+-----------------+-----------------+--------------------+------------------+---------------------+--------------+--------------+-----------+------------+\n|JaCQueLiNE maRshAll|         27|  Male|        A+|     Hypertension|       2024-02-22|        Myers-Monroe|  UnitedHealthcare|    39615.60065570468|        Urgent|    2024-02-24| Penicillin|Inconclusive|\n|      RoBErT sExtON|         54|  Male|        A-|           Cancer|       2020-11-19|    Sherman-Martinez|        Blue Cross|    3771.237165573879|        Urgent|    2020-11-27| Penicillin|    Abnormal|\n|    miCHaeL eLlIsoN|         19|Female|        O+|         Diabetes|       2021-07-09|Johnson Goodman C...|             Cigna|    25414.79593362392|      Elective|    2021-08-04|    Aspirin|    Abnormal|\n|       lARRy rAmSEY|         73|Female|        B+|         Diabetes|       2021-05-14|            PLC Hale|        Blue Cross|    32773.81627054692|     Emergency|    2021-05-17|    Lipitor|    Abnormal|\n|      REbecCA moore|         36|Female|        O+|           Cancer|       2019-09-03|Tanner Smith Mill...|  UnitedHealthcare|   21561.772386699362|        Urgent|    2019-09-05|    Lipitor|    Abnormal|\n|        JImmy JonES|         23|  Male|       AB-|           Asthma|       2020-06-03|           Ltd Davis|          Medicare|   17544.291019127882|     Emergency|    2020-06-24| Penicillin|    Abnormal|\n|      jENNiFEr wEST|         83|  Male|        A+|           Asthma|       2022-08-09|       Wright-Walker|             Aetna|    50713.56222403902|     Emergency|    2022-08-27|  Ibuprofen|Inconclusive|\n|     MELIssa MORGAN|         45|Female|        A-|         Diabetes|       2023-12-20|Thompson, and Rui...|  UnitedHealthcare|    48887.06051652329|     Emergency|    2024-01-09|Paracetamol|Inconclusive|\n|      miCHAEl rILeY|         46|Female|        O-|     Hypertension|       2021-09-12|     and Brewer Sons|             Aetna|    34338.86135878305|     Emergency|    2021-10-03|    Lipitor|      Normal|\n|   dr. KeviN HaYDen|         25|  Male|        A-|         Diabetes|       2023-06-27|         Morris-Rowe|             Cigna|    35624.96549525986|      Elective|    2023-07-04|Paracetamol|      Normal|\n+-------------------+-----------+------+----------+-----------------+-----------------+--------------------+------------------+---------------------+--------------+--------------+-----------+------------+\nonly showing top 10 rows\n\n"
     ]
    }
   ],
   "source": [
    "new_df.show(10)"
   ]
  },
  {
   "cell_type": "code",
   "execution_count": 0,
   "metadata": {
    "application/vnd.databricks.v1+cell": {
     "cellMetadata": {
      "byteLimit": 2048000,
      "rowLimit": 10000
     },
     "inputWidgets": {},
     "nuid": "dd4c3618-bac1-4291-b928-23f2b6337b6c",
     "showTitle": false,
     "title": ""
    }
   },
   "outputs": [
    {
     "output_type": "stream",
     "name": "stdout",
     "output_type": "stream",
     "text": [
      "+-------------------+-----------+------+----------+-----------------+-----------------+--------------------+------------------+---------------------+--------------+--------------+-----------+------------+\n|               Name|Age_Cleaned|Gender|Blood Type|Medical Condition|Date of Admission|            Hospital|Insurance Provider|BillingAmount_Cleaned|Admission Type|Discharge Date| Medication|Test Results|\n+-------------------+-----------+------+----------+-----------------+-----------------+--------------------+------------------+---------------------+--------------+--------------+-----------+------------+\n|Jacqueline Marshall|         27|  Male|        A+|     Hypertension|       2024-02-22|        Myers-Monroe|  UnitedHealthcare|    39615.60065570468|        Urgent|    2024-02-24| Penicillin|Inconclusive|\n|      Robert Sexton|         54|  Male|        A-|           Cancer|       2020-11-19|    Sherman-Martinez|        Blue Cross|    3771.237165573879|        Urgent|    2020-11-27| Penicillin|    Abnormal|\n|    Michael Ellison|         19|Female|        O+|         Diabetes|       2021-07-09|Johnson Goodman C...|             Cigna|    25414.79593362392|      Elective|    2021-08-04|    Aspirin|    Abnormal|\n|       Larry Ramsey|         73|Female|        B+|         Diabetes|       2021-05-14|            PLC Hale|        Blue Cross|    32773.81627054692|     Emergency|    2021-05-17|    Lipitor|    Abnormal|\n|      Rebecca Moore|         36|Female|        O+|           Cancer|       2019-09-03|Tanner Smith Mill...|  UnitedHealthcare|   21561.772386699362|        Urgent|    2019-09-05|    Lipitor|    Abnormal|\n|        Jimmy Jones|         23|  Male|       AB-|           Asthma|       2020-06-03|           Ltd Davis|          Medicare|   17544.291019127882|     Emergency|    2020-06-24| Penicillin|    Abnormal|\n|      Jennifer West|         83|  Male|        A+|           Asthma|       2022-08-09|       Wright-Walker|             Aetna|    50713.56222403902|     Emergency|    2022-08-27|  Ibuprofen|Inconclusive|\n|     Melissa Morgan|         45|Female|        A-|         Diabetes|       2023-12-20|Thompson, and Rui...|  UnitedHealthcare|    48887.06051652329|     Emergency|    2024-01-09|Paracetamol|Inconclusive|\n|      Michael Riley|         46|Female|        O-|     Hypertension|       2021-09-12|     and Brewer Sons|             Aetna|    34338.86135878305|     Emergency|    2021-10-03|    Lipitor|      Normal|\n|   Dr. Kevin Hayden|         25|  Male|        A-|         Diabetes|       2023-06-27|         Morris-Rowe|             Cigna|    35624.96549525986|      Elective|    2023-07-04|Paracetamol|      Normal|\n+-------------------+-----------+------+----------+-----------------+-----------------+--------------------+------------------+---------------------+--------------+--------------+-----------+------------+\nonly showing top 10 rows\n\n"
     ]
    }
   ],
   "source": [
    "from pyspark.sql.functions import udf\n",
    "from pyspark.sql.types import StringType\n",
    "\n",
    "# Define a function to standardize the spelling\n",
    "def standardize_name(name):\n",
    "    return ' '.join(word.capitalize() for word in name.lower().split())\n",
    "\n",
    "# Register the function as a UDF (User Defined Function)\n",
    "standardize_name_udf = udf(standardize_name, StringType())\n",
    "\n",
    "# Apply the UDF to the Name column\n",
    "new_df = new_df.withColumn(\"Name\", standardize_name_udf(\"Name\"))\n",
    "\n",
    "new_df.show(10)\n"
   ]
  },
  {
   "cell_type": "code",
   "execution_count": 0,
   "metadata": {
    "application/vnd.databricks.v1+cell": {
     "cellMetadata": {
      "byteLimit": 2048000,
      "rowLimit": 10000
     },
     "inputWidgets": {},
     "nuid": "a167dffd-bd53-4509-9059-000133468345",
     "showTitle": false,
     "title": ""
    }
   },
   "outputs": [],
   "source": [
    "new_df.createOrReplaceTempView(\"view_healthdataset_processed\")"
   ]
  },
  {
   "cell_type": "code",
   "execution_count": 0,
   "metadata": {
    "application/vnd.databricks.v1+cell": {
     "cellMetadata": {
      "byteLimit": 2048000,
      "rowLimit": 10000
     },
     "inputWidgets": {},
     "nuid": "45ae810b-2e32-4c2c-b09b-a0d73af92511",
     "showTitle": false,
     "title": ""
    }
   },
   "outputs": [
    {
     "output_type": "stream",
     "name": "stdout",
     "output_type": "stream",
     "text": [
      "+-------------------+\n|               Name|\n+-------------------+\n|Jacqueline Marshall|\n|      Robert Sexton|\n|    Michael Ellison|\n|       Larry Ramsey|\n|      Rebecca Moore|\n|        Jimmy Jones|\n|      Jennifer West|\n|     Melissa Morgan|\n|      Michael Riley|\n|   Dr. Kevin Hayden|\n+-------------------+\nonly showing top 10 rows\n\n"
     ]
    }
   ],
   "source": [
    "final_checking_test = \"\"\"\n",
    "                SELECT Name\n",
    "                FROM view_healthdataset_processed\n",
    "              \"\"\"\n",
    "\n",
    "output_df_final_test = spark.sql(final_checking_test)\n",
    "output_df_final_test.show(10)\n",
    "#Standardized Names"
   ]
  },
  {
   "cell_type": "code",
   "execution_count": 0,
   "metadata": {
    "application/vnd.databricks.v1+cell": {
     "cellMetadata": {
      "byteLimit": 2048000,
      "rowLimit": 10000
     },
     "inputWidgets": {},
     "nuid": "ae7a9cea-5c04-4013-9b7c-8f71afd9cf76",
     "showTitle": false,
     "title": ""
    }
   },
   "outputs": [
    {
     "output_type": "stream",
     "name": "stdout",
     "output_type": "stream",
     "text": [
      "+---+-------------------+-----------+------+----------+-----------------+-----------------+--------------------+------------------+---------------------+--------------+--------------+-----------+------------+\n| ID|               Name|Age_Cleaned|Gender|Blood Type|Medical Condition|Date of Admission|            Hospital|Insurance Provider|BillingAmount_Cleaned|Admission Type|Discharge Date| Medication|Test Results|\n+---+-------------------+-----------+------+----------+-----------------+-----------------+--------------------+------------------+---------------------+--------------+--------------+-----------+------------+\n|  1|Jacqueline Marshall|         27|  Male|        A+|     Hypertension|       2024-02-22|        Myers-Monroe|  UnitedHealthcare|    39615.60065570468|        Urgent|    2024-02-24| Penicillin|Inconclusive|\n|  2|      Robert Sexton|         54|  Male|        A-|           Cancer|       2020-11-19|    Sherman-Martinez|        Blue Cross|    3771.237165573879|        Urgent|    2020-11-27| Penicillin|    Abnormal|\n|  3|    Michael Ellison|         19|Female|        O+|         Diabetes|       2021-07-09|Johnson Goodman C...|             Cigna|    25414.79593362392|      Elective|    2021-08-04|    Aspirin|    Abnormal|\n|  4|       Larry Ramsey|         73|Female|        B+|         Diabetes|       2021-05-14|            PLC Hale|        Blue Cross|    32773.81627054692|     Emergency|    2021-05-17|    Lipitor|    Abnormal|\n|  5|      Rebecca Moore|         36|Female|        O+|           Cancer|       2019-09-03|Tanner Smith Mill...|  UnitedHealthcare|   21561.772386699362|        Urgent|    2019-09-05|    Lipitor|    Abnormal|\n|  6|        Jimmy Jones|         23|  Male|       AB-|           Asthma|       2020-06-03|           Ltd Davis|          Medicare|   17544.291019127882|     Emergency|    2020-06-24| Penicillin|    Abnormal|\n|  7|      Jennifer West|         83|  Male|        A+|           Asthma|       2022-08-09|       Wright-Walker|             Aetna|    50713.56222403902|     Emergency|    2022-08-27|  Ibuprofen|Inconclusive|\n|  8|     Melissa Morgan|         45|Female|        A-|         Diabetes|       2023-12-20|Thompson, and Rui...|  UnitedHealthcare|    48887.06051652329|     Emergency|    2024-01-09|Paracetamol|Inconclusive|\n|  9|      Michael Riley|         46|Female|        O-|     Hypertension|       2021-09-12|     and Brewer Sons|             Aetna|    34338.86135878305|     Emergency|    2021-10-03|    Lipitor|      Normal|\n| 10|   Dr. Kevin Hayden|         25|  Male|        A-|         Diabetes|       2023-06-27|         Morris-Rowe|             Cigna|    35624.96549525986|      Elective|    2023-07-04|Paracetamol|      Normal|\n+---+-------------------+-----------+------+----------+-----------------+-----------------+--------------------+------------------+---------------------+--------------+--------------+-----------+------------+\nonly showing top 10 rows\n\n"
     ]
    }
   ],
   "source": [
    "from pyspark.sql.functions import monotonically_increasing_id\n",
    "\n",
    "# Add a new column named \"ID\" with unique IDs\n",
    "output_df_final = new_df.withColumn(\"ID\", monotonically_increasing_id()+1)\n",
    "\n",
    "# Reorder the columns with ID at the beginning\n",
    "output_df_final = output_df_final.select(\"ID\", *output_df_final.columns[:-1])\n",
    "\n",
    "# Show the DataFrame with IDs\n",
    "output_df_final.show(10)\n"
   ]
  },
  {
   "cell_type": "code",
   "execution_count": 0,
   "metadata": {
    "application/vnd.databricks.v1+cell": {
     "cellMetadata": {
      "byteLimit": 2048000,
      "rowLimit": 10000
     },
     "inputWidgets": {},
     "nuid": "787229bc-769e-462b-b615-59107a8731ff",
     "showTitle": false,
     "title": ""
    }
   },
   "outputs": [
    {
     "output_type": "stream",
     "name": "stdout",
     "output_type": "stream",
     "text": [
      "+---+-------------------+-----------+------+----------+-----------------+-----------------+--------------------+------------------+---------------------+--------------+--------------+-----------+------------+\n| ID|               Name|Age_Cleaned|Gender|Blood Type|Medical Condition|Date of Admission|            Hospital|Insurance Provider|BillingAmount_Cleaned|Admission Type|Discharge Date| Medication|Test Results|\n+---+-------------------+-----------+------+----------+-----------------+-----------------+--------------------+------------------+---------------------+--------------+--------------+-----------+------------+\n|  1|Jacqueline Marshall|         27|  Male|        A+|     Hypertension|       2024-02-22|        Myers-Monroe|  UnitedHealthcare|    39615.60065570468|        Urgent|    2024-02-24| Penicillin|Inconclusive|\n|  2|      Robert Sexton|         54|  Male|        A-|           Cancer|       2020-11-19|    Sherman-Martinez|        Blue Cross|    3771.237165573879|        Urgent|    2020-11-27| Penicillin|    Abnormal|\n|  3|    Michael Ellison|         19|Female|        O+|         Diabetes|       2021-07-09|Johnson Goodman C...|             Cigna|    25414.79593362392|      Elective|    2021-08-04|    Aspirin|    Abnormal|\n|  4|       Larry Ramsey|         73|Female|        B+|         Diabetes|       2021-05-14|            PLC Hale|        Blue Cross|    32773.81627054692|     Emergency|    2021-05-17|    Lipitor|    Abnormal|\n|  5|      Rebecca Moore|         36|Female|        O+|           Cancer|       2019-09-03|Tanner Smith Mill...|  UnitedHealthcare|   21561.772386699362|        Urgent|    2019-09-05|    Lipitor|    Abnormal|\n|  6|        Jimmy Jones|         23|  Male|       AB-|           Asthma|       2020-06-03|           Ltd Davis|          Medicare|   17544.291019127882|     Emergency|    2020-06-24| Penicillin|    Abnormal|\n|  7|      Jennifer West|         83|  Male|        A+|           Asthma|       2022-08-09|       Wright-Walker|             Aetna|    50713.56222403902|     Emergency|    2022-08-27|  Ibuprofen|Inconclusive|\n|  8|     Melissa Morgan|         45|Female|        A-|         Diabetes|       2023-12-20|Thompson, and Rui...|  UnitedHealthcare|    48887.06051652329|     Emergency|    2024-01-09|Paracetamol|Inconclusive|\n|  9|      Michael Riley|         46|Female|        O-|     Hypertension|       2021-09-12|     and Brewer Sons|             Aetna|    34338.86135878305|     Emergency|    2021-10-03|    Lipitor|      Normal|\n| 10|   Dr. Kevin Hayden|         25|  Male|        A-|         Diabetes|       2023-06-27|         Morris-Rowe|             Cigna|    35624.96549525986|      Elective|    2023-07-04|Paracetamol|      Normal|\n| 11|         Janet Wise|         68|  Male|        B-|           Cancer|       2020-05-15|Wallace, Wu and M...|             Aetna|    29086.83210539754|     Emergency|    2020-05-30|Paracetamol|    Abnormal|\n| 12|          John Hall|         77|  Male|        O-|           Asthma|       2023-10-18|      Hunt-Rodriguez|             Aetna|    36568.07781741183|      Elective|    2023-11-07|    Lipitor|    Abnormal|\n| 13|     Belinda Garcia|         67|  Male|        A-|           Asthma|       2021-04-23|          Kelley LLC|             Aetna|    21011.66170196577|        Urgent|    2021-05-11|    Aspirin|    Abnormal|\n| 14|        Amber Jones|         69|  Male|        O-|           Asthma|       2024-03-08|       Williams-Cruz|        Blue Cross|   35617.810490672855|     Emergency|    2024-04-05|  Ibuprofen|Inconclusive|\n| 15|  Cheryl Strickland|         22|Female|        B-|     Hypertension|       2020-04-09|      Moore Sons and|             Aetna|    7183.800751649248|        Urgent|    2020-04-25| Penicillin|Inconclusive|\n| 16|     Kelly Martinez|         44|Female|        A+|           Cancer|       2020-11-17|         Inc Douglas|  UnitedHealthcare|   25925.804985070543|      Elective|    2020-12-05|  Ibuprofen|Inconclusive|\n| 17|       Dawn Richard|         41|  Male|        A-|           Cancer|       2024-04-28|            LLC Reed|  UnitedHealthcare|   38205.084909237565|      Elective|    2024-05-01|  Ibuprofen|    Abnormal|\n| 18|        Dan Stewart|         60|  Male|        B-|           Asthma|       2023-10-25|Park Wells, and H...|  UnitedHealthcare|   29837.593037609666|        Urgent|    2023-11-04|    Aspirin|    Abnormal|\n| 19|   Melissa Gonzalez|         63|Female|        B+|          Obesity|       2022-09-20|            Ltd Hill|  UnitedHealthcare|    6896.087809839798|     Emergency|    2022-09-21|Paracetamol|      Normal|\n| 20|      Gabriel Brown|         43|Female|        O+|        Arthritis|       2024-01-01|       Vega and Sons|             Aetna|   29873.979747269448|      Elective|    2024-01-27| Penicillin|Inconclusive|\n| 21|       Denise James|         48|Female|        B-|         Diabetes|       2021-03-16|         Hurst-Lewis|  UnitedHealthcare|   12392.526565483495|     Emergency|    2021-03-31|    Lipitor|      Normal|\n| 22|      Brandon Clark|         68|Female|       AB-|           Asthma|       2023-05-22|    Mckinney-Johnson|             Aetna|    45503.88372486567|      Elective|    2023-05-24|    Aspirin|Inconclusive|\n| 23|     Whitney Werner|         85|  Male|       AB-|           Asthma|       2020-12-12|  Fernandez-Gonzalez|        Blue Cross|   17455.151251564886|      Elective|    2020-12-24|Paracetamol|Inconclusive|\n| 24|        Marc Morgan|         66|Female|        B-|     Hypertension|       2022-01-14|         Stewart LLC|             Aetna|     2879.65166289358|      Elective|    2022-02-06|    Aspirin|      Normal|\n| 25|      Bruce Ramirez|         81|Female|        B-|         Diabetes|       2019-08-09|       Jackson-Green|             Aetna|   14533.530779087507|      Elective|    2019-09-03|  Ibuprofen|Inconclusive|\n| 26|      Matthew Craig|         28|  Male|        B-|        Arthritis|       2021-06-07|      Davis Sons and|  UnitedHealthcare|    16565.63034376076|      Elective|    2021-07-04|    Aspirin|Inconclusive|\n| 27|         Angel Page|         76|  Male|        A-|         Diabetes|       2020-07-12|and Welch Montes,...|             Cigna|   1969.2789369045504|     Emergency|    2020-07-30|Paracetamol|    Abnormal|\n| 28| Stephanie Erickson|         59|  Male|       AB-|     Hypertension|       2019-07-13|           Stout PLC|  UnitedHealthcare|   16497.918041068973|      Elective|    2019-08-06| Penicillin|      Normal|\n| 29|   Christopher Hill|         21|  Male|       AB-|        Arthritis|       2022-09-29|and Martin Abbott...|        Blue Cross|    36330.02865669091|        Urgent|    2022-10-07|    Lipitor|Inconclusive|\n| 30|       James Norris|         31|  Male|       AB+|          Obesity|       2021-08-27|Walker Garcia, an...|          Medicare|    19335.88586252269|      Elective|    2021-09-05|    Lipitor|      Normal|\n| 31|         Amanda Cox|         44|Female|        O-|        Arthritis|       2022-07-20|          Ltd Robles|             Cigna|    48082.08007616276|      Elective|    2022-08-09|  Ibuprofen|Inconclusive|\n| 32|   Marilyn Mckinney|         65|Female|        O-|          Obesity|       2023-08-27|      Allen-Ferguson|             Aetna|    9818.957977737597|     Emergency|    2023-09-07|  Ibuprofen|    Abnormal|\n| 33|      Michael Glass|         53|  Male|        B+|        Arthritis|       2022-11-25|        Galvan-Huber|          Medicare|   31677.646292041056|      Elective|    2022-11-28|    Lipitor|    Abnormal|\n| 34|   Diane Bennett Md|         41|Female|        A+|        Arthritis|       2020-10-01|         Duran-Berry|        Blue Cross|    5939.304929046788|        Urgent|    2020-10-11| Penicillin|      Normal|\n| 35|     Russell Hodges|         54|  Male|       AB-|         Diabetes|       2024-03-13|        Evans-Flores|             Aetna|   22324.568633671308|        Urgent|    2024-04-11| Penicillin|Inconclusive|\n| 36|      Ashley Wilson|         34|Female|       AB+|           Cancer|       2024-04-30|          Bowman Ltd|          Medicare|    33972.15361118425|     Emergency|    2024-05-04|  Ibuprofen|      Normal|\n| 37|   Russell Stephens|         27|  Male|        O-|        Arthritis|       2023-03-25|Mendez Jacobs Her...|        Blue Cross|   27906.024253676926|      Elective|    2023-04-21|    Aspirin|Inconclusive|\n| 38|     Amanda Watkins|         46|  Male|        A+|           Asthma|       2019-09-18|           Inc White|          Medicare|    28205.30396466056|      Elective|    2019-09-20|    Lipitor|Inconclusive|\n| 39|         Gina Allen|         36|Female|        A-|     Hypertension|       2020-04-10|Benitez Johnson a...|        Blue Cross|   11860.876494870592|     Emergency|    2020-04-22|    Aspirin|      Normal|\n| 40|          Cory Hill|         83|  Male|        A+|         Diabetes|       2019-06-08|and Nguyen Willia...|          Medicare|    21254.73538964162|        Urgent|    2019-06-22|Paracetamol|Inconclusive|\n| 41| Stephanie Bartlett|         63|  Male|        B-|           Asthma|       2020-08-08|          Ltd Thomas|        Blue Cross|   11280.989301828551|     Emergency|    2020-08-18|    Aspirin|Inconclusive|\n| 42|      Richard Wells|         21|  Male|       AB-|           Asthma|       2021-10-31|    Williams-Carlson|        Blue Cross|     5005.65936941757|        Urgent|    2021-11-30| Penicillin|Inconclusive|\n| 43|     Shannon Kramer|         38|Female|       AB+|     Hypertension|       2022-02-26|Johnson, and Mata...|             Cigna|   28805.094141537185|        Urgent|    2022-03-10|    Aspirin|    Abnormal|\n| 44|     Kimberly Smith|         30|Female|       AB-|         Diabetes|       2022-09-01|           Yates PLC|             Aetna|    2586.615794566017|      Elective|    2022-09-09|    Aspirin|    Abnormal|\n| 45| Matthew Hutchinson|         51|Female|        A+|         Diabetes|       2023-10-07|     Wilkerson-Lewis|             Aetna|    36970.07548148127|     Emergency|    2023-10-14| Penicillin|    Abnormal|\n| 46|      Leslie Rivera|         24|  Male|       AB-|        Arthritis|       2019-05-29|            LLC Dunn|             Aetna|    5717.964835719183|      Elective|    2019-06-03| Penicillin|    Abnormal|\n| 47|       Paige Hansen|         70|  Male|        B-|     Hypertension|       2022-05-07|Richardson Knight...|             Cigna|   24024.029075549122|     Emergency|    2022-05-21|  Ibuprofen|      Normal|\n| 48|       James Miller|         52|Female|       AB+|     Hypertension|       2019-11-27|and Sanchez, West...|             Aetna|     30876.2935996133|      Elective|    2019-12-09| Penicillin|      Normal|\n| 49|     Daniel Hensley|         42|  Male|        B+|     Hypertension|       2019-07-28|Wall Hunter, Broo...|             Cigna|    21365.80697572851|        Urgent|    2019-08-18|    Lipitor|Inconclusive|\n| 50|       Tracy Parker|         57|Female|        A+|        Arthritis|       2020-07-02|Morgan Fitzgerald...|             Aetna|    40818.14324867176|     Emergency|    2020-07-18|  Ibuprofen|    Abnormal|\n| 51|     Anthony Miller|         69|  Male|        O+|           Cancer|       2020-07-03|Conway Martinez, ...|             Aetna|   39908.528787027186|     Emergency|    2020-07-19| Penicillin|Inconclusive|\n| 52|   Jennifer Charles|         82|Female|        B+|        Arthritis|       2021-01-06|         Smith Group|  UnitedHealthcare|    23314.62248387486|        Urgent|    2021-01-11|    Aspirin|Inconclusive|\n| 53|       George Baker|         60|  Male|        A+|        Arthritis|       2022-06-04|     and Palmer Sons|             Aetna|   32062.060589479897|     Emergency|    2022-06-19|  Ibuprofen|    Abnormal|\n| 54|       Holly Holder|         41|  Male|        O-|     Hypertension|       2023-10-25|     and Wilson Sons|             Aetna|    9817.932797084928|     Emergency|    2023-11-06|  Ibuprofen|Inconclusive|\n| 55|      Elijah Larsen|         85|Female|        B+|           Cancer|       2020-06-12|           LLC Young|             Aetna|    9354.315931809357|     Emergency|    2020-06-30|  Ibuprofen|    Abnormal|\n| 56| Meredith Whitehead|         26|Female|       AB-|          Obesity|       2024-03-04|     Suarez-Anderson|             Aetna|    31229.13283826017|      Elective|    2024-03-10|Paracetamol|      Normal|\n| 57| Christopher Stokes|         84|Female|        A+|           Cancer|       2021-05-27|     and Sutton Sons|             Cigna|    36083.64169327894|      Elective|    2021-06-04|    Aspirin|    Abnormal|\n| 58|          David Cox|         46|  Male|        B+|           Cancer|       2022-04-16|     Cummings-Barnes|        Blue Cross|    22731.43862623445|      Elective|    2022-05-13|    Aspirin|    Abnormal|\n| 59|     Jackson Barber|         45|  Male|        O+|          Obesity|       2022-12-12|Anderson Allison,...|  UnitedHealthcare|   24366.680480595973|        Urgent|    2023-01-02| Penicillin|Inconclusive|\n| 60|    Brandon Osborne|         65|  Male|        A-|         Diabetes|       2022-08-18|        Wright-Kelly|        Blue Cross|   38315.552465571294|      Elective|    2022-08-22|    Lipitor|Inconclusive|\n| 61|        Amber Jones|         64|Female|       AB-|           Asthma|       2022-01-22|      Robinson Group|             Aetna|   10951.036906985559|      Elective|    2022-02-17|    Lipitor|      Normal|\n| 62|      Kimberly Gray|         18|Female|        O-|           Cancer|       2021-04-07|Wright Weber, Har...|        Blue Cross|    24521.99650249345|        Urgent|    2021-05-06| Penicillin|Inconclusive|\n| 63|    Catherine Lloyd|         79|  Male|        O+|           Asthma|       2023-07-19|and Holmes, Baker...|          Medicare|   32581.217828842935|        Urgent|    2023-08-14|Paracetamol|    Abnormal|\n| 64|         David Carr|         34|  Male|       AB+|           Asthma|       2023-07-22|        Vargas-Downs|  UnitedHealthcare|   14969.454646696295|      Elective|    2023-08-08| Penicillin|      Normal|\n| 65|     Jennifer Young|         30|Female|        B+|     Hypertension|       2022-06-03|         Osborne PLC|             Cigna|    16169.25192087919|      Elective|    2022-06-30|    Aspirin|Inconclusive|\n| 66|      George Flores|         68|Female|        A-|           Asthma|       2020-03-11|and Garcia, Edwar...|          Medicare|   14554.176058749536|     Emergency|    2020-03-15|    Aspirin|      Normal|\n| 67|      Jeffrey Frost|         63|  Male|        A-|        Arthritis|       2020-03-19|    and Sons Padilla|  UnitedHealthcare|    6625.846404928607|     Emergency|    2020-04-08| Penicillin|      Normal|\n| 68|       Kayla Rivera|         33|Female|        O+|           Cancer|       2021-05-06|Nunez Carter Jeff...|  UnitedHealthcare|    96.00185132744173|     Emergency|    2021-05-12|    Lipitor|      Normal|\n| 69|       Leslie Davis|         29|Female|        O+|        Arthritis|       2021-12-10|Zimmerman and Vas...|             Aetna|   28801.173367271644|      Elective|    2021-12-14|    Aspirin|Inconclusive|\n| 70|    Elizabeth Jones|         77|  Male|       AB+|          Obesity|       2021-12-17|    Richardson-Moore|             Aetna|   32006.542590353452|      Elective|    2022-01-04| Penicillin|Inconclusive|\n| 71|   Mr. Joseph Evans|         74|  Male|        O-|        Arthritis|       2022-11-07|      Sons Perry and|             Aetna|   16836.825334216217|        Urgent|    2022-11-28|Paracetamol|    Abnormal|\n| 72|      Veronica Ward|         83|  Male|        B+|         Diabetes|       2019-12-29|            Luna LLC|          Medicare|    40323.17863468228|      Elective|    2020-01-10|  Ibuprofen|Inconclusive|\n| 73|   Maurice Williams|         83|Female|        B+|     Hypertension|       2020-04-03|      Reynolds-Weiss|          Medicare|    22365.52211420202|        Urgent|    2020-04-18| Penicillin|Inconclusive|\n| 74|          Amy Duffy|         30|  Male|       AB+|        Arthritis|       2022-07-31|          Nguyen PLC|        Blue Cross|    29480.07357504013|      Elective|    2022-08-26|    Aspirin|    Abnormal|\n| 75|     David Bradford|         67|Female|        O-|           Cancer|       2019-09-01|         Inc Collins|        Blue Cross|   16536.771825815136|      Elective|    2019-09-17|    Lipitor|      Normal|\n| 76|   Michelle Sanders|         73|Female|       AB-|         Diabetes|       2023-01-27|          King Group|        Blue Cross|    41075.68301372565|      Elective|    2023-02-04| Penicillin|Inconclusive|\n| 77|     Ashley Bennett|         63|  Male|        B-|     Hypertension|       2022-05-06|      Woods-Davidson|             Cigna|    7039.175353802279|        Urgent|    2022-05-24|    Lipitor|Inconclusive|\n| 78|     Alyssa Schmidt|         73|  Male|        A-|         Diabetes|       2020-03-10|       Holmes-Torres|        Blue Cross|    5175.494233602717|        Urgent|    2020-03-29|    Aspirin|    Abnormal|\n| 79|   Laura Mclaughlin|         59|Female|        B+|        Arthritis|       2023-05-02|Stanley, and Acos...|             Aetna|    48780.25856943639|        Urgent|    2023-05-14| Penicillin|    Abnormal|\n| 80|      Carolyn Baker|         51|Female|       AB+|          Obesity|       2021-02-23|     Acosta Sons and|        Blue Cross|    5808.691684830136|        Urgent|    2021-03-25|    Lipitor|    Abnormal|\n| 81|        Linda Bauer|         48|  Male|        A+|           Cancer|       2019-09-24|Mason Freeman and...|  UnitedHealthcare|    47054.41002653471|      Elective|    2019-10-24|Paracetamol|Inconclusive|\n| 82|    Laura Davenport|         75|  Male|       AB-|         Diabetes|       2021-12-16|         White Group|             Cigna|   26330.181860859822|      Elective|    2021-12-27|  Ibuprofen|      Normal|\n| 83|        Dalton Wise|         56|  Male|        O+|           Cancer|       2021-10-07| Washington-Martinez|             Cigna|    19367.64320071898|        Urgent|    2021-10-27|Paracetamol|Inconclusive|\n| 84|     Crystal Robles|         82|Female|        B+|           Cancer|       2022-09-08|           PLC Gates|  UnitedHealthcare|   46052.698072347026|     Emergency|    2022-09-11|    Lipitor|    Abnormal|\n| 85|         Sara Smith|         42|  Male|       AB-|     Hypertension|       2019-09-04|Cobb Stewart, and...|             Cigna|   14807.327681097697|        Urgent|    2019-10-02|  Ibuprofen|    Abnormal|\n| 86|Dr. Gregory Delgado|         78|Female|        A+|           Asthma|       2020-01-23|            Cruz Inc|             Cigna|    45331.26884870332|      Elective|    2020-02-04|Paracetamol|Inconclusive|\n| 87|     Crystal Miller|         19|Female|        B+|         Diabetes|       2021-11-08|     Sons and Miller|             Aetna|   31055.693956368603|     Emergency|    2021-11-28|    Lipitor|      Normal|\n| 88|    Elizabeth Jones|         18|Female|        O-|         Diabetes|       2020-02-07|        and Sons Kim|             Aetna|    32415.99458183053|     Emergency|    2020-02-27|  Ibuprofen|      Normal|\n| 89|         Pam Rhodes|         82|Female|        O+|        Arthritis|       2020-09-10|      Inc Mclaughlin|             Cigna|   20691.535416540726|      Elective|    2020-09-28|Paracetamol|Inconclusive|\n| 90| Dr. Megan Thompson|         61|Female|        B-|     Hypertension|       2023-05-26|and Nelson, Montg...|             Cigna|    40043.00213304857|     Emergency|    2023-06-21|  Ibuprofen|    Abnormal|\n| 91|       Megan Wilson|         20|Female|        O+|           Cancer|       2022-10-17|Curtis, Summers a...|             Aetna|     19223.6242541737|     Emergency|    2022-10-25|Paracetamol|    Abnormal|\n| 92|         Tyler Park|         79|Female|        B-|        Arthritis|       2022-10-17|        Gray-Marquez|          Medicare|   32516.739058430296|        Urgent|    2022-11-10| Penicillin|Inconclusive|\n| 93|       Mark Bonilla|         56|  Male|       AB+|         Diabetes|       2020-11-03|     and Sons Murphy|             Cigna|    28674.05258337663|     Emergency|    2020-11-07|Paracetamol|    Abnormal|\n| 94|       Mark Sanders|         23|Female|        A-|           Asthma|       2023-10-05|       Group Herring|             Aetna|    12860.05056019018|      Elective|    2023-10-24| Penicillin|Inconclusive|\n| 95|        Joe Dickson|         34|  Male|       AB-|         Diabetes|       2020-07-14|      Sons and Frank|             Cigna|    13767.80362364971|     Emergency|    2020-07-25|  Ibuprofen|Inconclusive|\n| 96|      Kiara Simpson|         33|Female|        B+|           Asthma|       2024-04-18|        Inc Mcdonald|          Medicare|    36225.38742071212|     Emergency|    2024-04-29| Penicillin|Inconclusive|\n| 97|        Jeremy Cobb|         29|  Male|        B-|           Cancer|       2019-06-26|   Sons Harrison and|        Blue Cross|    18060.08028142014|     Emergency|    2019-07-18|    Aspirin|    Abnormal|\n| 98|    Paul Mccullough|         53|Female|       AB-|           Cancer|       2022-04-04|          Group Cole|  UnitedHealthcare|   31224.616313278446|        Urgent|    2022-04-17|  Ibuprofen|    Abnormal|\n| 99|   Melanie Anderson|         77|  Male|        O-|     Hypertension|       2021-02-17|     Group Nicholson|             Aetna|    45968.61615002369|      Elective|    2021-02-18| Penicillin|Inconclusive|\n|100|          David Kim|         29|  Male|        O+|           Asthma|       2023-05-08|Miller, Rodriguez...|  UnitedHealthcare|   10654.730649454646|      Elective|    2023-05-24|    Lipitor|    Abnormal|\n+---+-------------------+-----------+------+----------+-----------------+-----------------+--------------------+------------------+---------------------+--------------+--------------+-----------+------------+\nonly showing top 100 rows\n\n"
     ]
    }
   ],
   "source": [
    "output_df_final.show(100)"
   ]
  },
  {
   "cell_type": "code",
   "execution_count": 0,
   "metadata": {
    "application/vnd.databricks.v1+cell": {
     "cellMetadata": {
      "byteLimit": 2048000,
      "rowLimit": 10000
     },
     "inputWidgets": {},
     "nuid": "12aae2ca-f6a1-402b-a2a6-b0616f883493",
     "showTitle": false,
     "title": ""
    }
   },
   "outputs": [
    {
     "output_type": "stream",
     "name": "stdout",
     "output_type": "stream",
     "text": [
      "+---+-------------------+-----------+------+----------+-----------------+-----------------+--------------------+------------------+---------------------+--------------+--------------+-----------+------------+\n| ID|               Name|Age_Cleaned|Gender|Blood Type|Medical_Condition|Date of Admission|            Hospital|Insurance Provider|BillingAmount_Cleaned|Admission Type|Discharge Date| Medication|Test Results|\n+---+-------------------+-----------+------+----------+-----------------+-----------------+--------------------+------------------+---------------------+--------------+--------------+-----------+------------+\n|  1|Jacqueline Marshall|         27|  Male|        A+|     Hypertension|       2024-02-22|        Myers-Monroe|  UnitedHealthcare|    39615.60065570468|        Urgent|    2024-02-24| Penicillin|Inconclusive|\n|  2|      Robert Sexton|         54|  Male|        A-|           Cancer|       2020-11-19|    Sherman-Martinez|        Blue Cross|    3771.237165573879|        Urgent|    2020-11-27| Penicillin|    Abnormal|\n|  3|    Michael Ellison|         19|Female|        O+|         Diabetes|       2021-07-09|Johnson Goodman C...|             Cigna|    25414.79593362392|      Elective|    2021-08-04|    Aspirin|    Abnormal|\n|  4|       Larry Ramsey|         73|Female|        B+|         Diabetes|       2021-05-14|            PLC Hale|        Blue Cross|    32773.81627054692|     Emergency|    2021-05-17|    Lipitor|    Abnormal|\n|  5|      Rebecca Moore|         36|Female|        O+|           Cancer|       2019-09-03|Tanner Smith Mill...|  UnitedHealthcare|   21561.772386699362|        Urgent|    2019-09-05|    Lipitor|    Abnormal|\n|  6|        Jimmy Jones|         23|  Male|       AB-|           Asthma|       2020-06-03|           Ltd Davis|          Medicare|   17544.291019127882|     Emergency|    2020-06-24| Penicillin|    Abnormal|\n|  7|      Jennifer West|         83|  Male|        A+|           Asthma|       2022-08-09|       Wright-Walker|             Aetna|    50713.56222403902|     Emergency|    2022-08-27|  Ibuprofen|Inconclusive|\n|  8|     Melissa Morgan|         45|Female|        A-|         Diabetes|       2023-12-20|Thompson, and Rui...|  UnitedHealthcare|    48887.06051652329|     Emergency|    2024-01-09|Paracetamol|Inconclusive|\n|  9|      Michael Riley|         46|Female|        O-|     Hypertension|       2021-09-12|     and Brewer Sons|             Aetna|    34338.86135878305|     Emergency|    2021-10-03|    Lipitor|      Normal|\n| 10|   Dr. Kevin Hayden|         25|  Male|        A-|         Diabetes|       2023-06-27|         Morris-Rowe|             Cigna|    35624.96549525986|      Elective|    2023-07-04|Paracetamol|      Normal|\n| 11|         Janet Wise|         68|  Male|        B-|           Cancer|       2020-05-15|Wallace, Wu and M...|             Aetna|    29086.83210539754|     Emergency|    2020-05-30|Paracetamol|    Abnormal|\n| 12|          John Hall|         77|  Male|        O-|           Asthma|       2023-10-18|      Hunt-Rodriguez|             Aetna|    36568.07781741183|      Elective|    2023-11-07|    Lipitor|    Abnormal|\n| 13|     Belinda Garcia|         67|  Male|        A-|           Asthma|       2021-04-23|          Kelley LLC|             Aetna|    21011.66170196577|        Urgent|    2021-05-11|    Aspirin|    Abnormal|\n| 14|        Amber Jones|         69|  Male|        O-|           Asthma|       2024-03-08|       Williams-Cruz|        Blue Cross|   35617.810490672855|     Emergency|    2024-04-05|  Ibuprofen|Inconclusive|\n| 15|  Cheryl Strickland|         22|Female|        B-|     Hypertension|       2020-04-09|      Moore Sons and|             Aetna|    7183.800751649248|        Urgent|    2020-04-25| Penicillin|Inconclusive|\n| 16|     Kelly Martinez|         44|Female|        A+|           Cancer|       2020-11-17|         Inc Douglas|  UnitedHealthcare|   25925.804985070543|      Elective|    2020-12-05|  Ibuprofen|Inconclusive|\n| 17|       Dawn Richard|         41|  Male|        A-|           Cancer|       2024-04-28|            LLC Reed|  UnitedHealthcare|   38205.084909237565|      Elective|    2024-05-01|  Ibuprofen|    Abnormal|\n| 18|        Dan Stewart|         60|  Male|        B-|           Asthma|       2023-10-25|Park Wells, and H...|  UnitedHealthcare|   29837.593037609666|        Urgent|    2023-11-04|    Aspirin|    Abnormal|\n| 19|   Melissa Gonzalez|         63|Female|        B+|          Obesity|       2022-09-20|            Ltd Hill|  UnitedHealthcare|    6896.087809839798|     Emergency|    2022-09-21|Paracetamol|      Normal|\n| 20|      Gabriel Brown|         43|Female|        O+|        Arthritis|       2024-01-01|       Vega and Sons|             Aetna|   29873.979747269448|      Elective|    2024-01-27| Penicillin|Inconclusive|\n+---+-------------------+-----------+------+----------+-----------------+-----------------+--------------------+------------------+---------------------+--------------+--------------+-----------+------------+\nonly showing top 20 rows\n\n"
     ]
    }
   ],
   "source": [
    "output_df_final = output_df_final.withColumnRenamed(\"Medical Condition\", \"Medical_Condition\")\n",
    "\n",
    "output_df_final.show()\n"
   ]
  },
  {
   "cell_type": "code",
   "execution_count": 0,
   "metadata": {
    "application/vnd.databricks.v1+cell": {
     "cellMetadata": {
      "byteLimit": 2048000,
      "rowLimit": 10000
     },
     "inputWidgets": {},
     "nuid": "b9d03550-09a2-4761-866f-fa0a3c47f7fc",
     "showTitle": false,
     "title": ""
    }
   },
   "outputs": [],
   "source": [
    "from pyspark.sql.functions import col\n",
    "output_df_final = output_df_final.withColumn(\"BillingAmount_Cleaned\", col(\"BillingAmount_Cleaned\").cast(\"integer\"))"
   ]
  },
  {
   "cell_type": "code",
   "execution_count": 0,
   "metadata": {
    "application/vnd.databricks.v1+cell": {
     "cellMetadata": {
      "byteLimit": 2048000,
      "rowLimit": 10000
     },
     "inputWidgets": {},
     "nuid": "496e0cf3-6717-4d8b-b2ab-c356a31e7107",
     "showTitle": false,
     "title": ""
    }
   },
   "outputs": [],
   "source": [
    "from pyspark.sql.functions import col, to_date\n",
    "\n",
    "output_df_final = output_df_final.withColumn(\n",
    "    \"Date of Admission\", \n",
    "    to_date(col(\"Date of Admission\"), \"yyyy-MM-dd\")\n",
    ")\n",
    "\n",
    "output_df_final = output_df_final.withColumn(\n",
    "    \"Discharge Date\", \n",
    "    to_date(col(\"Discharge Date\"), \"yyyy-MM-dd\")\n",
    ")"
   ]
  },
  {
   "cell_type": "code",
   "execution_count": 0,
   "metadata": {
    "application/vnd.databricks.v1+cell": {
     "cellMetadata": {
      "byteLimit": 2048000,
      "rowLimit": 10000
     },
     "inputWidgets": {},
     "nuid": "83770562-10c0-4b08-b635-0f82e5e89b3b",
     "showTitle": false,
     "title": ""
    }
   },
   "outputs": [
    {
     "output_type": "stream",
     "name": "stdout",
     "output_type": "stream",
     "text": [
      "root\n |-- ID: long (nullable = false)\n |-- Name: string (nullable = true)\n |-- Age_Cleaned: string (nullable = true)\n |-- Gender: string (nullable = true)\n |-- Blood Type: string (nullable = true)\n |-- Medical_Condition: string (nullable = true)\n |-- Date of Admission: date (nullable = true)\n |-- Hospital: string (nullable = true)\n |-- Insurance Provider: string (nullable = true)\n |-- BillingAmount_Cleaned: integer (nullable = true)\n |-- Admission Type: string (nullable = true)\n |-- Discharge Date: date (nullable = true)\n |-- Medication: string (nullable = true)\n |-- Test Results: string (nullable = true)\n\n"
     ]
    }
   ],
   "source": [
    "output_df_final.printSchema()"
   ]
  },
  {
   "cell_type": "code",
   "execution_count": 0,
   "metadata": {
    "application/vnd.databricks.v1+cell": {
     "cellMetadata": {
      "byteLimit": 2048000,
      "rowLimit": 10000
     },
     "inputWidgets": {},
     "nuid": "4534e68d-3935-45e4-bdae-48c92499c9b2",
     "showTitle": false,
     "title": ""
    }
   },
   "outputs": [],
   "source": [
    "output_df_final1=output_df_final"
   ]
  },
  {
   "cell_type": "code",
   "execution_count": 0,
   "metadata": {
    "application/vnd.databricks.v1+cell": {
     "cellMetadata": {
      "byteLimit": 2048000,
      "rowLimit": 10000
     },
     "inputWidgets": {},
     "nuid": "10d099f7-4524-44ab-bc2b-be2e934aa192",
     "showTitle": false,
     "title": ""
    }
   },
   "outputs": [
    {
     "output_type": "display_data",
     "data": {
      "text/plain": [
       "StructType([StructField('ID', LongType(), False), StructField('Name', StringType(), True), StructField('Age_Cleaned', StringType(), True), StructField('Gender', StringType(), True), StructField('Blood Type', StringType(), True), StructField('Medical_Condition', StringType(), True), StructField('Date of Admission', DateType(), True), StructField('Hospital', StringType(), True), StructField('Insurance Provider', StringType(), True), StructField('BillingAmount_Cleaned', IntegerType(), True), StructField('Admission Type', StringType(), True), StructField('Discharge Date', DateType(), True), StructField('Medication', StringType(), True), StructField('Test Results', StringType(), True)])"
      ]
     },
     "metadata": {},
     "output_type": "display_data"
    }
   ],
   "source": [
    "display(output_df_final1.schema)"
   ]
  },
  {
   "cell_type": "code",
   "execution_count": 0,
   "metadata": {
    "application/vnd.databricks.v1+cell": {
     "cellMetadata": {
      "byteLimit": 2048000,
      "rowLimit": 10000
     },
     "inputWidgets": {},
     "nuid": "39f25bc4-483f-4365-a7c9-75a37be4e0b8",
     "showTitle": false,
     "title": ""
    }
   },
   "outputs": [],
   "source": [
    "target_container1 = \"processed\"\n",
    "\n",
    "output_df_final.write.mode('overwrite').partitionBy('Medical_Condition').parquet(f\"abfss://{target_container1}@projectstorageaccount11.dfs.core.windows.net/processed_healthdata\")\n"
   ]
  },
  {
   "cell_type": "code",
   "execution_count": 0,
   "metadata": {
    "application/vnd.databricks.v1+cell": {
     "cellMetadata": {
      "byteLimit": 2048000,
      "rowLimit": 10000
     },
     "inputWidgets": {},
     "nuid": "31646b42-2e49-4571-abf5-45340d97f952",
     "showTitle": false,
     "title": ""
    }
   },
   "outputs": [],
   "source": [
    "target_container2 = \"backup\"\n",
    "output_df_final1.write.mode('overwrite').parquet(f\"abfss://{target_container1}@projectstorageaccount11.dfs.core.windows.net/processed_healthdata\")"
   ]
  },
  {
   "cell_type": "code",
   "execution_count": 0,
   "metadata": {
    "application/vnd.databricks.v1+cell": {
     "cellMetadata": {
      "byteLimit": 2048000,
      "rowLimit": 10000
     },
     "inputWidgets": {},
     "nuid": "1a59b52a-36c5-4e9b-b1fb-690ab91b0dd1",
     "showTitle": false,
     "title": ""
    }
   },
   "outputs": [],
   "source": []
  }
 ],
 "metadata": {
  "application/vnd.databricks.v1+notebook": {
   "dashboards": [],
   "environmentMetadata": null,
   "language": "python",
   "notebookMetadata": {
    "pythonIndentUnit": 4
   },
   "notebookName": "Databricks Notebook",
   "widgets": {}
  }
 },
 "nbformat": 4,
 "nbformat_minor": 0
}
